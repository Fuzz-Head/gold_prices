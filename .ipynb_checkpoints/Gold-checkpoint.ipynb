{
 "cells": [
  {
   "cell_type": "markdown",
   "id": "40c1f45c",
   "metadata": {},
   "source": [
    "#### Importing necessary libraries\n"
   ]
  },
  {
   "cell_type": "code",
   "execution_count": 49,
   "id": "94066997",
   "metadata": {},
   "outputs": [],
   "source": [
    "import numpy as np\n",
    "import pandas as pd\n",
    "import matplotlib.pyplot as plt\n",
    "import seaborn as sns\n",
    "from sklearn.model_selection import train_test_split\n",
    "from sklearn.ensemble import RandomForestRegressor\n",
    "from sklearn import metrics"
   ]
  },
  {
   "cell_type": "code",
   "execution_count": 50,
   "id": "a9f17d8d",
   "metadata": {},
   "outputs": [],
   "source": [
    "gold_prices = pd.read_csv('gld_price_data.csv')"
   ]
  },
  {
   "cell_type": "code",
   "execution_count": 51,
   "id": "8f838289",
   "metadata": {},
   "outputs": [
    {
     "data": {
      "text/html": [
       "<div>\n",
       "<style scoped>\n",
       "    .dataframe tbody tr th:only-of-type {\n",
       "        vertical-align: middle;\n",
       "    }\n",
       "\n",
       "    .dataframe tbody tr th {\n",
       "        vertical-align: top;\n",
       "    }\n",
       "\n",
       "    .dataframe thead th {\n",
       "        text-align: right;\n",
       "    }\n",
       "</style>\n",
       "<table border=\"1\" class=\"dataframe\">\n",
       "  <thead>\n",
       "    <tr style=\"text-align: right;\">\n",
       "      <th></th>\n",
       "      <th>Date</th>\n",
       "      <th>SPX</th>\n",
       "      <th>GLD</th>\n",
       "      <th>USO</th>\n",
       "      <th>SLV</th>\n",
       "      <th>EUR/USD</th>\n",
       "    </tr>\n",
       "  </thead>\n",
       "  <tbody>\n",
       "    <tr>\n",
       "      <th>0</th>\n",
       "      <td>1/2/2008</td>\n",
       "      <td>1447.160034</td>\n",
       "      <td>84.860001</td>\n",
       "      <td>78.470001</td>\n",
       "      <td>15.180</td>\n",
       "      <td>1.471692</td>\n",
       "    </tr>\n",
       "    <tr>\n",
       "      <th>1</th>\n",
       "      <td>1/3/2008</td>\n",
       "      <td>1447.160034</td>\n",
       "      <td>85.570000</td>\n",
       "      <td>78.370003</td>\n",
       "      <td>15.285</td>\n",
       "      <td>1.474491</td>\n",
       "    </tr>\n",
       "    <tr>\n",
       "      <th>2</th>\n",
       "      <td>1/4/2008</td>\n",
       "      <td>1411.630005</td>\n",
       "      <td>85.129997</td>\n",
       "      <td>77.309998</td>\n",
       "      <td>15.167</td>\n",
       "      <td>1.475492</td>\n",
       "    </tr>\n",
       "    <tr>\n",
       "      <th>3</th>\n",
       "      <td>1/7/2008</td>\n",
       "      <td>1416.180054</td>\n",
       "      <td>84.769997</td>\n",
       "      <td>75.500000</td>\n",
       "      <td>15.053</td>\n",
       "      <td>1.468299</td>\n",
       "    </tr>\n",
       "    <tr>\n",
       "      <th>4</th>\n",
       "      <td>1/8/2008</td>\n",
       "      <td>1390.189941</td>\n",
       "      <td>86.779999</td>\n",
       "      <td>76.059998</td>\n",
       "      <td>15.590</td>\n",
       "      <td>1.557099</td>\n",
       "    </tr>\n",
       "  </tbody>\n",
       "</table>\n",
       "</div>"
      ],
      "text/plain": [
       "       Date          SPX        GLD        USO     SLV   EUR/USD\n",
       "0  1/2/2008  1447.160034  84.860001  78.470001  15.180  1.471692\n",
       "1  1/3/2008  1447.160034  85.570000  78.370003  15.285  1.474491\n",
       "2  1/4/2008  1411.630005  85.129997  77.309998  15.167  1.475492\n",
       "3  1/7/2008  1416.180054  84.769997  75.500000  15.053  1.468299\n",
       "4  1/8/2008  1390.189941  86.779999  76.059998  15.590  1.557099"
      ]
     },
     "execution_count": 51,
     "metadata": {},
     "output_type": "execute_result"
    }
   ],
   "source": [
    "gold_prices.head()"
   ]
  },
  {
   "cell_type": "code",
   "execution_count": 52,
   "id": "1457263a",
   "metadata": {},
   "outputs": [
    {
     "data": {
      "text/html": [
       "<div>\n",
       "<style scoped>\n",
       "    .dataframe tbody tr th:only-of-type {\n",
       "        vertical-align: middle;\n",
       "    }\n",
       "\n",
       "    .dataframe tbody tr th {\n",
       "        vertical-align: top;\n",
       "    }\n",
       "\n",
       "    .dataframe thead th {\n",
       "        text-align: right;\n",
       "    }\n",
       "</style>\n",
       "<table border=\"1\" class=\"dataframe\">\n",
       "  <thead>\n",
       "    <tr style=\"text-align: right;\">\n",
       "      <th></th>\n",
       "      <th>Date</th>\n",
       "      <th>SPX</th>\n",
       "      <th>GLD</th>\n",
       "      <th>USO</th>\n",
       "      <th>SLV</th>\n",
       "      <th>EUR/USD</th>\n",
       "    </tr>\n",
       "  </thead>\n",
       "  <tbody>\n",
       "    <tr>\n",
       "      <th>2285</th>\n",
       "      <td>5/8/2018</td>\n",
       "      <td>2671.919922</td>\n",
       "      <td>124.589996</td>\n",
       "      <td>14.0600</td>\n",
       "      <td>15.5100</td>\n",
       "      <td>1.186789</td>\n",
       "    </tr>\n",
       "    <tr>\n",
       "      <th>2286</th>\n",
       "      <td>5/9/2018</td>\n",
       "      <td>2697.790039</td>\n",
       "      <td>124.330002</td>\n",
       "      <td>14.3700</td>\n",
       "      <td>15.5300</td>\n",
       "      <td>1.184722</td>\n",
       "    </tr>\n",
       "    <tr>\n",
       "      <th>2287</th>\n",
       "      <td>5/10/2018</td>\n",
       "      <td>2723.070068</td>\n",
       "      <td>125.180000</td>\n",
       "      <td>14.4100</td>\n",
       "      <td>15.7400</td>\n",
       "      <td>1.191753</td>\n",
       "    </tr>\n",
       "    <tr>\n",
       "      <th>2288</th>\n",
       "      <td>5/14/2018</td>\n",
       "      <td>2730.129883</td>\n",
       "      <td>124.489998</td>\n",
       "      <td>14.3800</td>\n",
       "      <td>15.5600</td>\n",
       "      <td>1.193118</td>\n",
       "    </tr>\n",
       "    <tr>\n",
       "      <th>2289</th>\n",
       "      <td>5/16/2018</td>\n",
       "      <td>2725.780029</td>\n",
       "      <td>122.543800</td>\n",
       "      <td>14.4058</td>\n",
       "      <td>15.4542</td>\n",
       "      <td>1.182033</td>\n",
       "    </tr>\n",
       "  </tbody>\n",
       "</table>\n",
       "</div>"
      ],
      "text/plain": [
       "           Date          SPX         GLD      USO      SLV   EUR/USD\n",
       "2285   5/8/2018  2671.919922  124.589996  14.0600  15.5100  1.186789\n",
       "2286   5/9/2018  2697.790039  124.330002  14.3700  15.5300  1.184722\n",
       "2287  5/10/2018  2723.070068  125.180000  14.4100  15.7400  1.191753\n",
       "2288  5/14/2018  2730.129883  124.489998  14.3800  15.5600  1.193118\n",
       "2289  5/16/2018  2725.780029  122.543800  14.4058  15.4542  1.182033"
      ]
     },
     "execution_count": 52,
     "metadata": {},
     "output_type": "execute_result"
    }
   ],
   "source": [
    "gold_prices.tail()"
   ]
  },
  {
   "cell_type": "code",
   "execution_count": 53,
   "id": "450e8f13",
   "metadata": {},
   "outputs": [
    {
     "data": {
      "text/plain": [
       "(2290, 6)"
      ]
     },
     "execution_count": 53,
     "metadata": {},
     "output_type": "execute_result"
    }
   ],
   "source": [
    "gold_prices.shape"
   ]
  },
  {
   "cell_type": "code",
   "execution_count": 54,
   "id": "82cfd09f",
   "metadata": {},
   "outputs": [
    {
     "name": "stdout",
     "output_type": "stream",
     "text": [
      "<class 'pandas.core.frame.DataFrame'>\n",
      "RangeIndex: 2290 entries, 0 to 2289\n",
      "Data columns (total 6 columns):\n",
      " #   Column   Non-Null Count  Dtype  \n",
      "---  ------   --------------  -----  \n",
      " 0   Date     2290 non-null   object \n",
      " 1   SPX      2290 non-null   float64\n",
      " 2   GLD      2290 non-null   float64\n",
      " 3   USO      2290 non-null   float64\n",
      " 4   SLV      2290 non-null   float64\n",
      " 5   EUR/USD  2290 non-null   float64\n",
      "dtypes: float64(5), object(1)\n",
      "memory usage: 107.5+ KB\n"
     ]
    }
   ],
   "source": [
    "gold_prices.info()"
   ]
  },
  {
   "cell_type": "code",
   "execution_count": 55,
   "id": "5baeb8af",
   "metadata": {},
   "outputs": [
    {
     "data": {
      "text/plain": [
       "Date       0\n",
       "SPX        0\n",
       "GLD        0\n",
       "USO        0\n",
       "SLV        0\n",
       "EUR/USD    0\n",
       "dtype: int64"
      ]
     },
     "execution_count": 55,
     "metadata": {},
     "output_type": "execute_result"
    }
   ],
   "source": [
    "gold_prices.isnull().sum()"
   ]
  },
  {
   "cell_type": "code",
   "execution_count": 56,
   "id": "5671ac0e",
   "metadata": {},
   "outputs": [
    {
     "data": {
      "text/html": [
       "<div>\n",
       "<style scoped>\n",
       "    .dataframe tbody tr th:only-of-type {\n",
       "        vertical-align: middle;\n",
       "    }\n",
       "\n",
       "    .dataframe tbody tr th {\n",
       "        vertical-align: top;\n",
       "    }\n",
       "\n",
       "    .dataframe thead th {\n",
       "        text-align: right;\n",
       "    }\n",
       "</style>\n",
       "<table border=\"1\" class=\"dataframe\">\n",
       "  <thead>\n",
       "    <tr style=\"text-align: right;\">\n",
       "      <th></th>\n",
       "      <th>SPX</th>\n",
       "      <th>GLD</th>\n",
       "      <th>USO</th>\n",
       "      <th>SLV</th>\n",
       "      <th>EUR/USD</th>\n",
       "    </tr>\n",
       "  </thead>\n",
       "  <tbody>\n",
       "    <tr>\n",
       "      <th>count</th>\n",
       "      <td>2290.000000</td>\n",
       "      <td>2290.000000</td>\n",
       "      <td>2290.000000</td>\n",
       "      <td>2290.000000</td>\n",
       "      <td>2290.000000</td>\n",
       "    </tr>\n",
       "    <tr>\n",
       "      <th>mean</th>\n",
       "      <td>1654.315776</td>\n",
       "      <td>122.732875</td>\n",
       "      <td>31.842221</td>\n",
       "      <td>20.084997</td>\n",
       "      <td>1.283653</td>\n",
       "    </tr>\n",
       "    <tr>\n",
       "      <th>std</th>\n",
       "      <td>519.111540</td>\n",
       "      <td>23.283346</td>\n",
       "      <td>19.523517</td>\n",
       "      <td>7.092566</td>\n",
       "      <td>0.131547</td>\n",
       "    </tr>\n",
       "    <tr>\n",
       "      <th>min</th>\n",
       "      <td>676.530029</td>\n",
       "      <td>70.000000</td>\n",
       "      <td>7.960000</td>\n",
       "      <td>8.850000</td>\n",
       "      <td>1.039047</td>\n",
       "    </tr>\n",
       "    <tr>\n",
       "      <th>25%</th>\n",
       "      <td>1239.874969</td>\n",
       "      <td>109.725000</td>\n",
       "      <td>14.380000</td>\n",
       "      <td>15.570000</td>\n",
       "      <td>1.171313</td>\n",
       "    </tr>\n",
       "    <tr>\n",
       "      <th>50%</th>\n",
       "      <td>1551.434998</td>\n",
       "      <td>120.580002</td>\n",
       "      <td>33.869999</td>\n",
       "      <td>17.268500</td>\n",
       "      <td>1.303297</td>\n",
       "    </tr>\n",
       "    <tr>\n",
       "      <th>75%</th>\n",
       "      <td>2073.010070</td>\n",
       "      <td>132.840004</td>\n",
       "      <td>37.827501</td>\n",
       "      <td>22.882500</td>\n",
       "      <td>1.369971</td>\n",
       "    </tr>\n",
       "    <tr>\n",
       "      <th>max</th>\n",
       "      <td>2872.870117</td>\n",
       "      <td>184.589996</td>\n",
       "      <td>117.480003</td>\n",
       "      <td>47.259998</td>\n",
       "      <td>1.598798</td>\n",
       "    </tr>\n",
       "  </tbody>\n",
       "</table>\n",
       "</div>"
      ],
      "text/plain": [
       "               SPX          GLD          USO          SLV      EUR/USD\n",
       "count  2290.000000  2290.000000  2290.000000  2290.000000  2290.000000\n",
       "mean   1654.315776   122.732875    31.842221    20.084997     1.283653\n",
       "std     519.111540    23.283346    19.523517     7.092566     0.131547\n",
       "min     676.530029    70.000000     7.960000     8.850000     1.039047\n",
       "25%    1239.874969   109.725000    14.380000    15.570000     1.171313\n",
       "50%    1551.434998   120.580002    33.869999    17.268500     1.303297\n",
       "75%    2073.010070   132.840004    37.827501    22.882500     1.369971\n",
       "max    2872.870117   184.589996   117.480003    47.259998     1.598798"
      ]
     },
     "execution_count": 56,
     "metadata": {},
     "output_type": "execute_result"
    }
   ],
   "source": [
    "gold_prices.describe()"
   ]
  },
  {
   "cell_type": "code",
   "execution_count": 57,
   "id": "7df17c43",
   "metadata": {},
   "outputs": [],
   "source": [
    "correlation = gold_prices.corr()"
   ]
  },
  {
   "cell_type": "code",
   "execution_count": 58,
   "id": "39060597",
   "metadata": {},
   "outputs": [
    {
     "data": {
      "text/plain": [
       "<AxesSubplot:>"
      ]
     },
     "execution_count": 58,
     "metadata": {},
     "output_type": "execute_result"
    },
    {
     "data": {
      "image/png": "[encoded data removed]",
      "text/plain": [
       "<Figure size 576x576 with 2 Axes>"
      ]
     },
     "metadata": {
      "needs_background": "light"
     },
     "output_type": "display_data"
    }
   ],
   "source": [
    "plt.figure(figsize = (8,8))\n",
    "sns.heatmap(correlation, cbar=True, square=True, fmt='.1f', annot=True, annot_kws={'size':8}, cmap='Reds')"
   ]
  },
  {
   "cell_type": "code",
   "execution_count": 59,
   "id": "f9e9c609",
   "metadata": {},
   "outputs": [
    {
     "name": "stdout",
     "output_type": "stream",
     "text": [
      "SPX        0.049345\n",
      "GLD        1.000000\n",
      "USO       -0.186360\n",
      "SLV        0.866632\n",
      "EUR/USD   -0.024375\n",
      "Name: GLD, dtype: float64\n"
     ]
    }
   ],
   "source": [
    "print(correlation['GLD'])"
   ]
  },
  {
   "cell_type": "code",
   "execution_count": 60,
   "id": "51ce2b98",
   "metadata": {},
   "outputs": [
    {
     "name": "stderr",
     "output_type": "stream",
     "text": [
      "A:\\Anaconda\\lib\\site-packages\\seaborn\\distributions.py:2619: FutureWarning: `distplot` is a deprecated function and will be removed in a future version. Please adapt your code to use either `displot` (a figure-level function with similar flexibility) or `histplot` (an axes-level function for histograms).\n",
      "  warnings.warn(msg, FutureWarning)\n"
     ]
    },
    {
     "data": {
      "text/plain": [
       "<AxesSubplot:xlabel='GLD', ylabel='Density'>"
      ]
     },
     "execution_count": 60,
     "metadata": {},
     "output_type": "execute_result"
    },
    {
     "data": {
      "image/png": "[encoded data removed]",
      "text/plain": [
       "<Figure size 432x288 with 1 Axes>"
      ]
     },
     "metadata": {
      "needs_background": "light"
     },
     "output_type": "display_data"
    }
   ],
   "source": [
    "sns.distplot(gold_prices['GLD'], color= 'green')"
   ]
  },
  {
   "cell_type": "code",
   "execution_count": 61,
   "id": "95feb396",
   "metadata": {},
   "outputs": [],
   "source": [
    "X = gold_prices.drop(['Date', 'GLD'], axis=1)\n",
    "Y = gold_prices['GLD']"
   ]
  },
  {
   "cell_type": "code",
   "execution_count": 62,
   "id": "e5ebe0a2",
   "metadata": {},
   "outputs": [
    {
     "name": "stdout",
     "output_type": "stream",
     "text": [
      "              SPX        USO      SLV   EUR/USD\n",
      "0     1447.160034  78.470001  15.1800  1.471692\n",
      "1     1447.160034  78.370003  15.2850  1.474491\n",
      "2     1411.630005  77.309998  15.1670  1.475492\n",
      "3     1416.180054  75.500000  15.0530  1.468299\n",
      "4     1390.189941  76.059998  15.5900  1.557099\n",
      "...           ...        ...      ...       ...\n",
      "2285  2671.919922  14.060000  15.5100  1.186789\n",
      "2286  2697.790039  14.370000  15.5300  1.184722\n",
      "2287  2723.070068  14.410000  15.7400  1.191753\n",
      "2288  2730.129883  14.380000  15.5600  1.193118\n",
      "2289  2725.780029  14.405800  15.4542  1.182033\n",
      "\n",
      "[2290 rows x 4 columns]\n"
     ]
    }
   ],
   "source": [
    "print(X)"
   ]
  },
  {
   "cell_type": "code",
   "execution_count": 63,
   "id": "3cc7b7e0",
   "metadata": {},
   "outputs": [
    {
     "name": "stdout",
     "output_type": "stream",
     "text": [
      "0        84.860001\n",
      "1        85.570000\n",
      "2        85.129997\n",
      "3        84.769997\n",
      "4        86.779999\n",
      "           ...    \n",
      "2285    124.589996\n",
      "2286    124.330002\n",
      "2287    125.180000\n",
      "2288    124.489998\n",
      "2289    122.543800\n",
      "Name: GLD, Length: 2290, dtype: float64\n"
     ]
    }
   ],
   "source": [
    "print(Y)"
   ]
  },
  {
   "cell_type": "code",
   "execution_count": 64,
   "id": "2cba82f9",
   "metadata": {},
   "outputs": [],
   "source": [
    "X_train, X_test, Y_train, Y_test = train_test_split(X, Y, test_size = 0.2, random_state=2)"
   ]
  },
  {
   "cell_type": "code",
   "execution_count": 65,
   "id": "d3924968",
   "metadata": {},
   "outputs": [],
   "source": [
    "regressor = RandomForestRegressor(n_estimators=100)"
   ]
  },
  {
   "cell_type": "code",
   "execution_count": 66,
   "id": "7b531118",
   "metadata": {},
   "outputs": [
    {
     "data": {
      "text/plain": [
       "RandomForestRegressor()"
      ]
     },
     "execution_count": 66,
     "metadata": {},
     "output_type": "execute_result"
    }
   ],
   "source": [
    "# train model \n",
    "regressor.fit(X_train, Y_train)"
   ]
  },
  {
   "cell_type": "code",
   "execution_count": 67,
   "id": "bf603367",
   "metadata": {},
   "outputs": [],
   "source": [
    "test_data_prediction = regressor.predict(X_test)"
   ]
  },
  {
   "cell_type": "code",
   "execution_count": 68,
   "id": "1ee9f912",
   "metadata": {},
   "outputs": [
    {
     "name": "stdout",
     "output_type": "stream",
     "text": [
      "[168.41639943  81.8296999  116.02580022 127.62460082 120.62190144\n",
      " 154.68069711 149.89519846 126.08360046 117.5089988  126.05810063\n",
      " 116.79050096 171.87520095 141.24109871 168.33499877 115.02769985\n",
      " 117.95000047 139.26230319 170.18680061 159.78370251 156.81669895\n",
      " 155.11290019 125.46220044 176.85839926 157.50800357 125.16650038\n",
      "  93.7214      77.91590001 120.49039966 119.0651994  167.37559925\n",
      "  88.11810035 125.21950001  91.33040106 117.6835002  121.11639895\n",
      " 136.2304012  115.7194007  115.39020091 147.5424997  106.98630105\n",
      " 103.5558021   87.17509787 126.56010073 118.02230009 151.95099933\n",
      " 119.66970005 108.33249991 108.11689834  93.20290078 127.12179745\n",
      "  74.9195005  113.7487994  121.4255     111.21299885 118.72879876\n",
      " 120.37939961 158.87410059 168.0130014  147.3369969   85.86149865\n",
      "  94.21060008  86.94579872  90.41120022 118.926001   126.34930066\n",
      " 127.40930026 169.35150003 122.20349923 117.08699893  98.96130063\n",
      " 168.20110171 143.34039847 132.45750214 121.3162021  120.73009942\n",
      " 119.66900055 114.5075016  118.14840081 107.09890103 127.87030064\n",
      " 113.99739926 107.76419993 116.75020064 119.66159855  88.71970065\n",
      "  88.29739869 146.84470259 127.46389987 113.13000013 110.71409824\n",
      " 108.21809915  77.38999931 168.39950193 113.97879902 121.61029906\n",
      " 128.14610209 154.97049804  91.7787999  135.85040109 158.95590266\n",
      " 125.73780093 125.47210065 130.57960207 114.98190098 119.75079964\n",
      "  92.08470001 110.37479882 167.25499916 156.48279843 114.20099956\n",
      " 106.58160114  80.12379968 113.34390017 125.78550099 107.18659958\n",
      " 119.14340071 156.06520315 160.1052984  120.67989979 133.65990287\n",
      " 101.23139986 117.539698   119.21830068 112.90990071 102.73709919\n",
      " 160.40999771  98.80880034 147.03279895 125.5131009  169.89739961\n",
      " 125.65689865 127.37859734 127.42920133 113.75579934 113.09120045\n",
      " 123.68099904 102.20379908  89.37909978 124.56849944 101.81049946\n",
      " 107.01489935 113.66380064 117.12340075  99.46669964 121.48070061\n",
      " 163.6361991   87.19929862 106.91389992 117.45250089 127.71960124\n",
      " 123.98070067  80.77979913 120.27250072 158.4805982   87.84689996\n",
      " 110.46049945 118.80129896 171.98989911 102.98459908 105.23700042\n",
      " 122.72180032 158.6106978   87.9654984   93.16790071 112.39360039\n",
      " 177.43789936 114.82509968 119.21570052  94.56470105 125.9295001\n",
      " 166.09540113 114.80270063 116.74730132  88.39339872 148.89580123\n",
      " 120.50139933  89.57859994 111.09759987 117.32000044 118.74660128\n",
      "  88.1298993   94.22330015 116.96320034 118.55820174 120.31540016\n",
      " 126.67729833 121.86479973 149.13640042 164.4426007  118.50939973\n",
      " 120.22490146 150.41030028 118.59199917 172.30339943 105.31989936\n",
      " 104.95490151 149.20200134 113.44750046 124.83380137 147.38689932\n",
      " 119.62730133 115.46330026 112.37829971 113.41090237 141.01740062\n",
      " 117.75359767 102.96490038 115.91940124 103.41990171  99.27690038\n",
      " 117.49080083  90.5816001   91.57260056 153.46159859 102.73509985\n",
      " 154.75380062 114.4089019  138.84360153  90.05329823 115.46599928\n",
      " 114.27869983 122.87780069 121.72950032 165.3922021   92.86989978\n",
      " 135.55950103 121.34839918 120.99680023 104.63479989 142.82250278\n",
      " 121.87459927 116.72020044 113.55910079 127.24589712 122.65999934\n",
      " 125.75670024 121.23570025  86.87509901 132.77770061 144.30560211\n",
      "  92.6715994  159.63279945 158.74240214 126.17409949 164.28139953\n",
      " 108.85679973 109.54710122 103.75339825  94.24970096 127.78770283\n",
      " 106.82300049 162.60939965 121.48350043 132.14300029 130.59970141\n",
      " 160.45479991  90.04719853 175.548702   127.47910057 126.69389861\n",
      "  86.34969899 124.46229976 150.20379694  89.62599999 107.08969994\n",
      " 109.15410014  84.18089922 136.03560005 155.26430252 140.19210347\n",
      "  74.41330017 152.17380082 126.13900012 126.76680006 127.46069912\n",
      " 108.57279948 156.2425997  114.56990085 116.8959015  125.50819971\n",
      " 154.03870145 121.28499988 156.34169909  92.97510076 125.54460135\n",
      " 125.75510031  87.92630027  92.25629931 126.35119881 128.41560357\n",
      " 113.07420024 117.73489734 121.05199981 127.13729813 119.34860088\n",
      " 136.44330061  93.89469909 120.0203001  113.31750104  94.22269948\n",
      " 108.72869934  87.32189935 109.27759934  89.43399968  92.50410017\n",
      " 131.55760268 162.62180017  89.31810001 119.89230076 133.26830203\n",
      " 123.69110003 128.30940176 101.99139858  89.13319832 131.56960017\n",
      " 119.73130007 108.58409984 167.9842011  115.36950004  86.63709937\n",
      " 118.86730057  90.9694995  161.91120081 116.65430046 121.65820006\n",
      " 160.16459773 119.96499927 112.80979951 108.45559877 126.70939954\n",
      "  75.7806008  102.94059971 127.79060272 121.76439922  92.55910064\n",
      " 131.95390048 117.8732013  115.90499962 154.65220272 159.65020099\n",
      " 110.18179956 154.12499739 119.29360107 160.83830063 118.70540053\n",
      " 157.91639961 115.14939907 116.62260011 149.30569949 114.70170081\n",
      " 125.71379892 165.65839878 117.91340014 124.96689902 153.30490358\n",
      " 153.28730252 132.1285     114.75190053 121.29680211 125.07580074\n",
      "  89.7068004  123.3295999  154.804102   111.66980013 106.83530003\n",
      " 162.24320119 118.40889992 165.60549954 133.98040087 115.19069942\n",
      " 152.81639831 168.70600066 115.58400009 114.02260111 158.34379905\n",
      "  85.25569895 127.0511007  127.93180037 128.7634006  124.52820068\n",
      " 123.90160098  90.70799989 153.04140041  97.13959994 137.93479983\n",
      "  89.05769912 107.6714     115.09040026 112.86190064 124.23279929\n",
      "  91.32639855 125.36140144 162.56459837 119.58859953 165.06770196\n",
      " 126.69209829 112.05750023 127.50359922  94.76209883  90.68839993\n",
      " 103.19939927 120.90309963  83.10179928 126.23589996 160.73900393\n",
      " 117.50370061 118.36089955 120.02229973 122.39049943 120.02260152\n",
      " 121.53789974 118.3667005  106.84789982 148.34340036 126.29639785\n",
      " 115.79490104  74.19500024 127.84180138 154.42790074 122.13369976\n",
      " 125.60060062  88.83130023 103.77659903 124.77690037 120.2187005\n",
      "  73.21720114 152.0499997  121.38120012 104.65480031  86.65709789\n",
      " 115.26719933 172.14869844 119.69310043 160.29039752 113.20619934\n",
      " 121.45470006 118.19750121  95.97119969 118.63989957 125.7539002\n",
      " 118.44199953  95.91140106 153.9401018  122.3211001  147.58230028\n",
      " 159.68480169 114.19770047 122.51619939 149.77919834 127.35320035\n",
      " 165.72430009 136.04920001 120.00189959 167.67239855 108.30039928\n",
      " 121.68099844 138.06200135 106.85699911]\n"
     ]
    }
   ],
   "source": [
    "print(test_data_prediction)"
   ]
  },
  {
   "cell_type": "code",
   "execution_count": 69,
   "id": "fa54fbb6",
   "metadata": {},
   "outputs": [
    {
     "name": "stdout",
     "output_type": "stream",
     "text": [
      "R Squared error : 0.9888437129381443\n"
     ]
    }
   ],
   "source": [
    "# R squared error\n",
    "error_score = metrics.r2_score(Y_test, test_data_prediction)\n",
    "print(\"R Squared error :\", error_score)"
   ]
  },
  {
   "cell_type": "code",
   "execution_count": 70,
   "id": "0f7889e8",
   "metadata": {},
   "outputs": [],
   "source": [
    "# compare actual vs predicted values \n",
    "Y_test = list(Y_test)"
   ]
  },
  {
   "cell_type": "code",
   "execution_count": 71,
   "id": "3512f581",
   "metadata": {},
   "outputs": [
    {
     "data": {
      "image/png": "[encoded data removed]",
      "text/plain": [
       "<Figure size 432x288 with 1 Axes>"
      ]
     },
     "metadata": {
      "needs_background": "light"
     },
     "output_type": "display_data"
    }
   ],
   "source": [
    "plt.plot(Y_test, color='red', label= 'Actual value')\n",
    "plt.plot(test_data_prediction, color='green', label='Predicted values')\n",
    "plt.title('Actual price vs Predicted price')\n",
    "plt.xlabel('number of values')\n",
    "plt.ylabel('gold price')\n",
    "plt.legend()\n",
    "plt.show()"
   ]
  }
 ],
 "metadata": {
  "kernelspec": {
   "display_name": "Python 3 (ipykernel)",
   "language": "python",
   "name": "python3"
  },
  "language_info": {
   "codemirror_mode": {
    "name": "ipython",
    "version": 3
   },
   "file_extension": ".py",
   "mimetype": "text/x-python",
   "name": "python",
   "nbconvert_exporter": "python",
   "pygments_lexer": "ipython3",
   "version": "3.8.12"
  }
 },
 "nbformat": 4,
 "nbformat_minor": 5
}
